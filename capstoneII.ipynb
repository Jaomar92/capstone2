{
 "cells": [
  {
   "cell_type": "code",
   "execution_count": 227,
   "metadata": {},
   "outputs": [],
   "source": [
    "# Starting the Project by importing the librarires\n",
    "import pandas as pd \n",
    "import numpy as np\n",
    "import matplotlib.pyplot as plt\n",
    "import seaborn as sns\n",
    "sns.set_style(\"dark\")"
   ]
  },
  {
   "attachments": {},
   "cell_type": "markdown",
   "metadata": {},
   "source": [
    "# I.Capstone II Porject\n",
    "Prepared by Jeffrey Aroun bin Omar\n",
    "<br>\n",
    "DataScience Job connecter JCDSOL-009\n",
    "\n",
    "### II.Start - 21st.March.2022\n",
    "- Data: [TSA_claims_Datasets](https://www.kaggle.com/datasets/terminal-security-agency/tsa-claims-database)\n",
    "- Title: TSA Claims Database\n",
    "\n",
    "### II.I Background \n",
    "This dataset looks into claims filed against the Transportation Security Administration (TSA), which is responsible for providing security for the traveling public in the United States. The TSA was created in response to the September 11, 2001 terrorist attacks, with the goal of preventing similar attacks from occurring in the future. The agency is mainly responsible for screening passengers and their baggage, as well as overseeing security measures in airports and on airplanes.\n",
    "\n",
    "We will be exploring and analyzing the dataset using the techniques taught by Purwadhika. Also to provide possible recommendations for better service and performance.\n",
    "\n",
    "### III.Problem Statement\n",
    "We will explore:- \n",
    "1. What is the most frequent claims lounged against the TSA \n",
    "2. Where is the most frequent occurances of incidents that happened\n",
    "3. "
   ]
  },
  {
   "attachments": {},
   "cell_type": "markdown",
   "metadata": {},
   "source": [
    "## 1. Exploring the Data \n",
    "1. Importing the data using pandas. \n",
    "2. Get the shape of the dataset and identify the number of unique values in it as well as missing values. \n",
    "3. See how we can prepare the data for better analysis."
   ]
  },
  {
   "cell_type": "code",
   "execution_count": 281,
   "metadata": {},
   "outputs": [
    {
     "name": "stderr",
     "output_type": "stream",
     "text": [
      "C:\\Users\\User\\AppData\\Local\\Temp\\ipykernel_30552\\4118624583.py:3: DtypeWarning: Columns (0,11,12) have mixed types. Specify dtype option on import or set low_memory=False.\n",
      "  df = pd.read_csv('tsa_claims.csv')\n"
     ]
    },
    {
     "data": {
      "text/html": [
       "<div>\n",
       "<style scoped>\n",
       "    .dataframe tbody tr th:only-of-type {\n",
       "        vertical-align: middle;\n",
       "    }\n",
       "\n",
       "    .dataframe tbody tr th {\n",
       "        vertical-align: top;\n",
       "    }\n",
       "\n",
       "    .dataframe thead th {\n",
       "        text-align: right;\n",
       "    }\n",
       "</style>\n",
       "<table border=\"1\" class=\"dataframe\">\n",
       "  <thead>\n",
       "    <tr style=\"text-align: right;\">\n",
       "      <th></th>\n",
       "      <th>Claim Number</th>\n",
       "      <th>Date Received</th>\n",
       "      <th>Incident Date</th>\n",
       "      <th>Airport Code</th>\n",
       "      <th>Airport Name</th>\n",
       "      <th>Airline Name</th>\n",
       "      <th>Claim Type</th>\n",
       "      <th>Claim Site</th>\n",
       "      <th>Item</th>\n",
       "      <th>Claim Amount</th>\n",
       "      <th>Status</th>\n",
       "      <th>Close Amount</th>\n",
       "      <th>Disposition</th>\n",
       "    </tr>\n",
       "  </thead>\n",
       "  <tbody>\n",
       "    <tr>\n",
       "      <th>0</th>\n",
       "      <td>0909802M</td>\n",
       "      <td>4-Jan-02</td>\n",
       "      <td>12/12/2002 0:00</td>\n",
       "      <td>EWR</td>\n",
       "      <td>Newark International Airport</td>\n",
       "      <td>Continental Airlines</td>\n",
       "      <td>Property Damage</td>\n",
       "      <td>Checkpoint</td>\n",
       "      <td>Other</td>\n",
       "      <td>$350.00</td>\n",
       "      <td>Approved</td>\n",
       "      <td>$350.00</td>\n",
       "      <td>Approve in Full</td>\n",
       "    </tr>\n",
       "    <tr>\n",
       "      <th>1</th>\n",
       "      <td>0202417M</td>\n",
       "      <td>2-Feb-02</td>\n",
       "      <td>1/16/2004 0:00</td>\n",
       "      <td>SEA</td>\n",
       "      <td>Seattle-Tacoma International</td>\n",
       "      <td>NaN</td>\n",
       "      <td>Property Damage</td>\n",
       "      <td>Checked Baggage</td>\n",
       "      <td>Luggage (all types including footlockers)</td>\n",
       "      <td>$100.00</td>\n",
       "      <td>Settled</td>\n",
       "      <td>$50.00</td>\n",
       "      <td>Settle</td>\n",
       "    </tr>\n",
       "    <tr>\n",
       "      <th>2</th>\n",
       "      <td>0202445M</td>\n",
       "      <td>4-Feb-02</td>\n",
       "      <td>11/26/2003 0:00</td>\n",
       "      <td>STL</td>\n",
       "      <td>Lambert St. Louis International</td>\n",
       "      <td>American Airlines</td>\n",
       "      <td>Property Damage</td>\n",
       "      <td>Checked Baggage</td>\n",
       "      <td>Cell Phones</td>\n",
       "      <td>$278.88</td>\n",
       "      <td>Settled</td>\n",
       "      <td>$227.92</td>\n",
       "      <td>Settle</td>\n",
       "    </tr>\n",
       "    <tr>\n",
       "      <th>3</th>\n",
       "      <td>0909816M</td>\n",
       "      <td>7-Feb-02</td>\n",
       "      <td>1/6/2003 0:00</td>\n",
       "      <td>MIA</td>\n",
       "      <td>Miami International Airport</td>\n",
       "      <td>American Airlines</td>\n",
       "      <td>Property Damage</td>\n",
       "      <td>Checkpoint</td>\n",
       "      <td>Luggage (all types including footlockers)</td>\n",
       "      <td>$50.00</td>\n",
       "      <td>Approved</td>\n",
       "      <td>$50.00</td>\n",
       "      <td>Approve in Full</td>\n",
       "    </tr>\n",
       "    <tr>\n",
       "      <th>4</th>\n",
       "      <td>2.00503E+12</td>\n",
       "      <td>18-Feb-02</td>\n",
       "      <td>2/5/2005 0:00</td>\n",
       "      <td>MCO</td>\n",
       "      <td>Orlando International Airport</td>\n",
       "      <td>Delta (Song)</td>\n",
       "      <td>Property Damage</td>\n",
       "      <td>Checkpoint</td>\n",
       "      <td>Baby - Strollers; car seats; playpen; etc.</td>\n",
       "      <td>$84.79</td>\n",
       "      <td>Approved</td>\n",
       "      <td>$84.79</td>\n",
       "      <td>Approve in Full</td>\n",
       "    </tr>\n",
       "  </tbody>\n",
       "</table>\n",
       "</div>"
      ],
      "text/plain": [
       "  Claim Number Date Received    Incident Date Airport Code  \\\n",
       "0     0909802M      4-Jan-02  12/12/2002 0:00          EWR   \n",
       "1     0202417M      2-Feb-02   1/16/2004 0:00          SEA   \n",
       "2     0202445M      4-Feb-02  11/26/2003 0:00          STL   \n",
       "3     0909816M      7-Feb-02    1/6/2003 0:00          MIA   \n",
       "4  2.00503E+12     18-Feb-02    2/5/2005 0:00          MCO   \n",
       "\n",
       "                      Airport Name          Airline Name       Claim Type  \\\n",
       "0     Newark International Airport  Continental Airlines  Property Damage   \n",
       "1     Seattle-Tacoma International                   NaN  Property Damage   \n",
       "2  Lambert St. Louis International     American Airlines  Property Damage   \n",
       "3      Miami International Airport     American Airlines  Property Damage   \n",
       "4    Orlando International Airport          Delta (Song)  Property Damage   \n",
       "\n",
       "        Claim Site                                        Item Claim Amount  \\\n",
       "0       Checkpoint                                       Other     $350.00    \n",
       "1  Checked Baggage   Luggage (all types including footlockers)     $100.00    \n",
       "2  Checked Baggage                                 Cell Phones     $278.88    \n",
       "3       Checkpoint   Luggage (all types including footlockers)      $50.00    \n",
       "4       Checkpoint  Baby - Strollers; car seats; playpen; etc.      $84.79    \n",
       "\n",
       "     Status Close Amount      Disposition  \n",
       "0  Approved     $350.00   Approve in Full  \n",
       "1   Settled      $50.00            Settle  \n",
       "2   Settled     $227.92            Settle  \n",
       "3  Approved      $50.00   Approve in Full  \n",
       "4  Approved      $84.79   Approve in Full  "
      ]
     },
     "execution_count": 281,
     "metadata": {},
     "output_type": "execute_result"
    }
   ],
   "source": [
    "# Importing the data set \n",
    "\n",
    "df = pd.read_csv('tsa_claims.csv')\n",
    "\n",
    "# get the head to see what it looks like \n",
    "df.head()"
   ]
  },
  {
   "cell_type": "code",
   "execution_count": 282,
   "metadata": {},
   "outputs": [
    {
     "data": {
      "text/html": [
       "<div>\n",
       "<style scoped>\n",
       "    .dataframe tbody tr th:only-of-type {\n",
       "        vertical-align: middle;\n",
       "    }\n",
       "\n",
       "    .dataframe tbody tr th {\n",
       "        vertical-align: top;\n",
       "    }\n",
       "\n",
       "    .dataframe thead th {\n",
       "        text-align: right;\n",
       "    }\n",
       "</style>\n",
       "<table border=\"1\" class=\"dataframe\">\n",
       "  <thead>\n",
       "    <tr style=\"text-align: right;\">\n",
       "      <th></th>\n",
       "      <th>Claim Number</th>\n",
       "      <th>Date Received</th>\n",
       "      <th>Incident Date</th>\n",
       "      <th>Airport Code</th>\n",
       "      <th>Airport Name</th>\n",
       "      <th>Airline Name</th>\n",
       "      <th>Claim Type</th>\n",
       "      <th>Claim Site</th>\n",
       "      <th>Item</th>\n",
       "      <th>Claim Amount</th>\n",
       "      <th>Status</th>\n",
       "      <th>Close Amount</th>\n",
       "      <th>Disposition</th>\n",
       "    </tr>\n",
       "  </thead>\n",
       "  <tbody>\n",
       "    <tr>\n",
       "      <th>191970</th>\n",
       "      <td>2.01408E+12</td>\n",
       "      <td>23-Jul-14</td>\n",
       "      <td>16-Jul-14</td>\n",
       "      <td>PHX</td>\n",
       "      <td>Phoenix Sky Harbor International</td>\n",
       "      <td>Delta Air Lines</td>\n",
       "      <td>Property Damage</td>\n",
       "      <td>Checked Baggage</td>\n",
       "      <td>Household Items</td>\n",
       "      <td>$0.00</td>\n",
       "      <td>Deny</td>\n",
       "      <td>NaN</td>\n",
       "      <td>NaN</td>\n",
       "    </tr>\n",
       "    <tr>\n",
       "      <th>166396</th>\n",
       "      <td>2.01201E+12</td>\n",
       "      <td>7-Dec-11</td>\n",
       "      <td>11/26/2011 0:00</td>\n",
       "      <td>BOS</td>\n",
       "      <td>Boston (Logan) International Airport</td>\n",
       "      <td>American Airlines</td>\n",
       "      <td>Property Damage</td>\n",
       "      <td>Checked Baggage</td>\n",
       "      <td>Clothing</td>\n",
       "      <td>$0.00</td>\n",
       "      <td>Deny</td>\n",
       "      <td>NaN</td>\n",
       "      <td>NaN</td>\n",
       "    </tr>\n",
       "    <tr>\n",
       "      <th>65966</th>\n",
       "      <td>2.00506E+12</td>\n",
       "      <td>10-Jun-05</td>\n",
       "      <td>4/16/2005 0:00</td>\n",
       "      <td>ORD</td>\n",
       "      <td>Chicago O'Hare International Airport</td>\n",
       "      <td>Continental Airlines</td>\n",
       "      <td>Passenger Property Loss</td>\n",
       "      <td>Checked Baggage</td>\n",
       "      <td>Clothing - Shoes; belts; accessories; etc.</td>\n",
       "      <td>$350.00</td>\n",
       "      <td>Denied</td>\n",
       "      <td>$0.00</td>\n",
       "      <td>Deny</td>\n",
       "    </tr>\n",
       "    <tr>\n",
       "      <th>75217</th>\n",
       "      <td>2.00511E+12</td>\n",
       "      <td>9-Nov-05</td>\n",
       "      <td>10/7/2005 0:00</td>\n",
       "      <td>TUS</td>\n",
       "      <td>Tucson International</td>\n",
       "      <td>Delta Air Lines</td>\n",
       "      <td>Passenger Property Loss</td>\n",
       "      <td>Checked Baggage</td>\n",
       "      <td>Clothing - Shoes; belts; accessories; etc.</td>\n",
       "      <td>$475.00</td>\n",
       "      <td>Denied</td>\n",
       "      <td>$0.00</td>\n",
       "      <td>Deny</td>\n",
       "    </tr>\n",
       "    <tr>\n",
       "      <th>184753</th>\n",
       "      <td>2.01311E+12</td>\n",
       "      <td>7-Oct-13</td>\n",
       "      <td>9/16/2013 11:35</td>\n",
       "      <td>MSY</td>\n",
       "      <td>New Orleans International</td>\n",
       "      <td>Southwest Airlines</td>\n",
       "      <td>Passenger Property Loss</td>\n",
       "      <td>Checked Baggage</td>\n",
       "      <td>Cosmetics &amp; Grooming</td>\n",
       "      <td>-</td>\n",
       "      <td>-</td>\n",
       "      <td>NaN</td>\n",
       "      <td>NaN</td>\n",
       "    </tr>\n",
       "  </tbody>\n",
       "</table>\n",
       "</div>"
      ],
      "text/plain": [
       "       Claim Number Date Received    Incident Date Airport Code  \\\n",
       "191970  2.01408E+12     23-Jul-14        16-Jul-14          PHX   \n",
       "166396  2.01201E+12      7-Dec-11  11/26/2011 0:00          BOS   \n",
       "65966   2.00506E+12     10-Jun-05   4/16/2005 0:00          ORD   \n",
       "75217   2.00511E+12      9-Nov-05   10/7/2005 0:00          TUS   \n",
       "184753  2.01311E+12      7-Oct-13  9/16/2013 11:35          MSY   \n",
       "\n",
       "                                 Airport Name          Airline Name  \\\n",
       "191970       Phoenix Sky Harbor International     Delta Air Lines     \n",
       "166396  Boston (Logan) International Airport    American Airlines     \n",
       "65966    Chicago O'Hare International Airport  Continental Airlines   \n",
       "75217                    Tucson International       Delta Air Lines   \n",
       "184753              New Orleans International  Southwest Airlines     \n",
       "\n",
       "                     Claim Type       Claim Site  \\\n",
       "191970          Property Damage  Checked Baggage   \n",
       "166396          Property Damage  Checked Baggage   \n",
       "65966   Passenger Property Loss  Checked Baggage   \n",
       "75217   Passenger Property Loss  Checked Baggage   \n",
       "184753  Passenger Property Loss  Checked Baggage   \n",
       "\n",
       "                                              Item Claim Amount  Status  \\\n",
       "191970                             Household Items       $0.00     Deny   \n",
       "166396                                    Clothing       $0.00     Deny   \n",
       "65966   Clothing - Shoes; belts; accessories; etc.     $350.00   Denied   \n",
       "75217   Clothing - Shoes; belts; accessories; etc.     $475.00   Denied   \n",
       "184753                        Cosmetics & Grooming            -       -   \n",
       "\n",
       "       Close Amount Disposition  \n",
       "191970          NaN         NaN  \n",
       "166396          NaN         NaN  \n",
       "65966        $0.00         Deny  \n",
       "75217        $0.00         Deny  \n",
       "184753          NaN         NaN  "
      ]
     },
     "execution_count": 282,
     "metadata": {},
     "output_type": "execute_result"
    }
   ],
   "source": [
    "# Trying out getting a random sample\n",
    "df.sample(n=5)"
   ]
  },
  {
   "cell_type": "code",
   "execution_count": 283,
   "metadata": {},
   "outputs": [
    {
     "name": "stdout",
     "output_type": "stream",
     "text": [
      "<class 'pandas.core.frame.DataFrame'>\n",
      "RangeIndex: 204270 entries, 0 to 204269\n",
      "Data columns (total 13 columns):\n",
      " #   Column         Non-Null Count   Dtype \n",
      "---  ------         --------------   ----- \n",
      " 0   Claim Number   204267 non-null  object\n",
      " 1   Date Received  204004 non-null  object\n",
      " 2   Incident Date  202084 non-null  object\n",
      " 3   Airport Code   195743 non-null  object\n",
      " 4   Airport Name   195743 non-null  object\n",
      " 5   Airline Name   169893 non-null  object\n",
      " 6   Claim Type     196354 non-null  object\n",
      " 7   Claim Site     203527 non-null  object\n",
      " 8   Item           200301 non-null  object\n",
      " 9   Claim Amount   200224 non-null  object\n",
      " 10  Status         204262 non-null  object\n",
      " 11  Close Amount   135315 non-null  object\n",
      " 12  Disposition    131359 non-null  object\n",
      "dtypes: object(13)\n",
      "memory usage: 20.3+ MB\n"
     ]
    }
   ],
   "source": [
    "df.info()"
   ]
  },
  {
   "cell_type": "code",
   "execution_count": 284,
   "metadata": {},
   "outputs": [
    {
     "data": {
      "text/plain": [
       "Index(['Claim Number', 'Date Received', 'Incident Date', 'Airport Code',\n",
       "       'Airport Name', 'Airline Name', 'Claim Type', 'Claim Site', 'Item',\n",
       "       'Claim Amount', 'Status', 'Close Amount', 'Disposition'],\n",
       "      dtype='object')"
      ]
     },
     "execution_count": 284,
     "metadata": {},
     "output_type": "execute_result"
    }
   ],
   "source": [
    "df.columns"
   ]
  },
  {
   "attachments": {},
   "cell_type": "markdown",
   "metadata": {},
   "source": [
    "### 1.1 Dataset Description\n",
    "There is 14 columns 204270 rows. \n",
    "<br>\n",
    "We'll proceed to check on the proportion of missing values in the Dataset\n",
    "\n",
    "### 1.2 Missing & Unique Values \n"
   ]
  },
  {
   "cell_type": "code",
   "execution_count": 285,
   "metadata": {},
   "outputs": [
    {
     "data": {
      "text/html": [
       "<div>\n",
       "<style scoped>\n",
       "    .dataframe tbody tr th:only-of-type {\n",
       "        vertical-align: middle;\n",
       "    }\n",
       "\n",
       "    .dataframe tbody tr th {\n",
       "        vertical-align: top;\n",
       "    }\n",
       "\n",
       "    .dataframe thead th {\n",
       "        text-align: right;\n",
       "    }\n",
       "</style>\n",
       "<table border=\"1\" class=\"dataframe\">\n",
       "  <thead>\n",
       "    <tr style=\"text-align: right;\">\n",
       "      <th></th>\n",
       "      <th>Missing Values Count</th>\n",
       "      <th>Unique Number of Values</th>\n",
       "      <th>%</th>\n",
       "    </tr>\n",
       "  </thead>\n",
       "  <tbody>\n",
       "    <tr>\n",
       "      <th>Disposition</th>\n",
       "      <td>72911</td>\n",
       "      <td>3</td>\n",
       "      <td>35.69</td>\n",
       "    </tr>\n",
       "    <tr>\n",
       "      <th>Close Amount</th>\n",
       "      <td>68955</td>\n",
       "      <td>17162</td>\n",
       "      <td>33.76</td>\n",
       "    </tr>\n",
       "    <tr>\n",
       "      <th>Airline Name</th>\n",
       "      <td>34377</td>\n",
       "      <td>318</td>\n",
       "      <td>16.83</td>\n",
       "    </tr>\n",
       "    <tr>\n",
       "      <th>Airport Code</th>\n",
       "      <td>8527</td>\n",
       "      <td>465</td>\n",
       "      <td>4.17</td>\n",
       "    </tr>\n",
       "    <tr>\n",
       "      <th>Airport Name</th>\n",
       "      <td>8527</td>\n",
       "      <td>485</td>\n",
       "      <td>4.17</td>\n",
       "    </tr>\n",
       "    <tr>\n",
       "      <th>Claim Type</th>\n",
       "      <td>7916</td>\n",
       "      <td>11</td>\n",
       "      <td>3.88</td>\n",
       "    </tr>\n",
       "    <tr>\n",
       "      <th>Claim Amount</th>\n",
       "      <td>4046</td>\n",
       "      <td>36117</td>\n",
       "      <td>1.98</td>\n",
       "    </tr>\n",
       "    <tr>\n",
       "      <th>Item</th>\n",
       "      <td>3969</td>\n",
       "      <td>4704</td>\n",
       "      <td>1.94</td>\n",
       "    </tr>\n",
       "    <tr>\n",
       "      <th>Incident Date</th>\n",
       "      <td>2186</td>\n",
       "      <td>26807</td>\n",
       "      <td>1.07</td>\n",
       "    </tr>\n",
       "    <tr>\n",
       "      <th>Claim Site</th>\n",
       "      <td>743</td>\n",
       "      <td>6</td>\n",
       "      <td>0.36</td>\n",
       "    </tr>\n",
       "    <tr>\n",
       "      <th>Date Received</th>\n",
       "      <td>266</td>\n",
       "      <td>4007</td>\n",
       "      <td>0.13</td>\n",
       "    </tr>\n",
       "    <tr>\n",
       "      <th>Claim Number</th>\n",
       "      <td>3</td>\n",
       "      <td>29671</td>\n",
       "      <td>0.00</td>\n",
       "    </tr>\n",
       "    <tr>\n",
       "      <th>Status</th>\n",
       "      <td>8</td>\n",
       "      <td>15</td>\n",
       "      <td>0.00</td>\n",
       "    </tr>\n",
       "  </tbody>\n",
       "</table>\n",
       "</div>"
      ],
      "text/plain": [
       "               Missing Values Count Unique Number of Values      %\n",
       "Disposition                   72911                       3  35.69\n",
       "Close Amount                  68955                   17162  33.76\n",
       "Airline Name                  34377                     318  16.83\n",
       "Airport Code                   8527                     465   4.17\n",
       "Airport Name                   8527                     485   4.17\n",
       "Claim Type                     7916                      11   3.88\n",
       "Claim Amount                   4046                   36117   1.98\n",
       "Item                           3969                    4704   1.94\n",
       "Incident Date                  2186                   26807   1.07\n",
       "Claim Site                      743                       6   0.36\n",
       "Date Received                   266                    4007   0.13\n",
       "Claim Number                      3                   29671   0.00\n",
       "Status                            8                      15   0.00"
      ]
     },
     "execution_count": 285,
     "metadata": {},
     "output_type": "execute_result"
    }
   ],
   "source": [
    "missing_values = df.isnull()\n",
    "missing_columns = missing_values.sum()\n",
    "unique_values = df.describe().loc['unique']\n",
    "missing_df = pd.DataFrame({'Missing Values Count': missing_columns,\n",
    "                           \"Unique Number of Values\": unique_values,\n",
    "                           '%': (missing_columns / len(df)) * 100})\n",
    "missing_df['%'] = missing_df['%'].round(2)\n",
    "\n",
    "missing_df = missing_df.sort_values(by='%', ascending=False)\n",
    "\n",
    "missing_df\n",
    "\n"
   ]
  },
  {
   "attachments": {},
   "cell_type": "markdown",
   "metadata": {},
   "source": [
    "###### Comparing missing values and possible unique values the data can hold."
   ]
  },
  {
   "attachments": {},
   "cell_type": "markdown",
   "metadata": {},
   "source": [
    "### 1.2.1 General Insight\n",
    "\n",
    "From the table listed above there is a few columns that are salvageable columns to handle missing values such as:-\n",
    "1. Disposition\n",
    "2. Claim Type\n",
    "3. Claim Site\n",
    "4. Status\n",
    "<br>\n",
    "\n",
    "We can look into the unique values theses columes hold including null values.\n"
   ]
  },
  {
   "cell_type": "code",
   "execution_count": 286,
   "metadata": {},
   "outputs": [],
   "source": [
    "ucd = df['Disposition'].value_counts(dropna=False)\n",
    "ucc =df['Claim Type'].value_counts(dropna=False)\n",
    "ucs = df['Claim Site'].value_counts(dropna=False)\n",
    "ucS = df['Status'].value_counts(dropna=False)"
   ]
  },
  {
   "cell_type": "code",
   "execution_count": 287,
   "metadata": {},
   "outputs": [
    {
     "data": {
      "text/plain": [
       "NaN                72911\n",
       "Deny               68382\n",
       "Approve in Full    35010\n",
       "Settle             27967\n",
       "Name: Disposition, dtype: int64"
      ]
     },
     "execution_count": 287,
     "metadata": {},
     "output_type": "execute_result"
    }
   ],
   "source": [
    "# Disposition Column\n",
    "ucd"
   ]
  },
  {
   "cell_type": "code",
   "execution_count": 288,
   "metadata": {},
   "outputs": [
    {
     "data": {
      "text/plain": [
       "Passenger Property Loss    117868\n",
       "Property Damage             75364\n",
       "NaN                          7916\n",
       "Personal Injury              1465\n",
       "Employee Loss (MPCECA)        485\n",
       "Passenger Theft               465\n",
       "Motor Vehicle                 369\n",
       "-                             282\n",
       "Complaint                      48\n",
       "Wrongful Death                  4\n",
       "Compliment                      3\n",
       "Bus Terminal                    1\n",
       "Name: Claim Type, dtype: int64"
      ]
     },
     "execution_count": 288,
     "metadata": {},
     "output_type": "execute_result"
    }
   ],
   "source": [
    "# Claim Type Column\n",
    "ucc"
   ]
  },
  {
   "cell_type": "code",
   "execution_count": 289,
   "metadata": {},
   "outputs": [
    {
     "data": {
      "text/plain": [
       "Checked Baggage    159753\n",
       "Checkpoint          40133\n",
       "Other                2875\n",
       "NaN                   743\n",
       "Motor Vehicle         474\n",
       "-                     276\n",
       "Bus Station            16\n",
       "Name: Claim Site, dtype: int64"
      ]
     },
     "execution_count": 289,
     "metadata": {},
     "output_type": "execute_result"
    }
   ],
   "source": [
    "# Claim site Column\n",
    "ucs"
   ]
  },
  {
   "cell_type": "code",
   "execution_count": 290,
   "metadata": {},
   "outputs": [
    {
     "data": {
      "text/plain": [
       "Denied                                                                                                                           68339\n",
       "Approved                                                                                                                         34999\n",
       "Deny                                                                                                                             28237\n",
       "Settled                                                                                                                          27958\n",
       "-                                                                                                                                12752\n",
       "Approve in Full                                                                                                                  12364\n",
       "Canceled                                                                                                                          7018\n",
       "Settle                                                                                                                            5766\n",
       "Insufficient; one of the following items required: sum certain; statement of fact; signature; location of incident; and date.     5381\n",
       "Closed as a contractor claim                                                                                                      1315\n",
       "In litigation                                                                                                                      108\n",
       "Claim entered                                                                                                                       14\n",
       "In review                                                                                                                            9\n",
       "NaN                                                                                                                                  8\n",
       "Claim has been assigned for further investigation                                                                                    1\n",
       "Pending response from claimant                                                                                                       1\n",
       "Name: Status, dtype: int64"
      ]
     },
     "execution_count": 290,
     "metadata": {},
     "output_type": "execute_result"
    }
   ],
   "source": [
    "# Status Column\n",
    "ucS"
   ]
  },
  {
   "attachments": {},
   "cell_type": "markdown",
   "metadata": {},
   "source": [
    "#### 1.2.2 Interesting Correlations\n",
    "- ucS and ucd seem to hold same name values. This could narrow our search and visually varify it on Excel. \n",
    "- There seems to be two types of null values which is NaN and -. We should see what kind of values these hold. My assumption is a change in methodology in recording process.\n",
    "- There is a colma separated value starting with Insufficient. This provides information why there was no dispostion filled in. We can classify it as Unprocurable due to the complaint not fulfilling the formalities of filing a complaint. \n"
   ]
  },
  {
   "attachments": {},
   "cell_type": "markdown",
   "metadata": {},
   "source": [
    "### 1.3.1 Disposition and Status\n",
    "- We can varify our data using excell filter feature that there was a change in methodolgy and 100% of the time one value correlated to another. \n",
    "> Assume it is a spelling mistake and Correct it \n",
    "> Have new adjustments reflect disposition. \n",
    "\n",
    "### 1.3.2 NaN and - \n",
    "- Excel records it as blanks. We will assume that these values are the same as well.\n",
    "\n",
    "### 1.3.3 colma separated Values\n",
    "- all came to the same conclusion in excell as well with regard to status holding that value and disposition. But we will run test in pyhton to varify it in one shoot. "
   ]
  },
  {
   "attachments": {},
   "cell_type": "markdown",
   "metadata": {},
   "source": [
    "## 2.0 Handling Missing Values\n",
    "We'll start by Fixing the following:\n",
    "1. Fix the spelling mistake of Status where all values holding Approved, Denied, Settle, Insufficient. \n",
    "2. Have Desposition reflect Disposition. \n",
    "3. See if we can add a new category for Null, NaN and - Values."
   ]
  },
  {
   "attachments": {},
   "cell_type": "markdown",
   "metadata": {},
   "source": [
    "### 2.1 Spelling Mistake of Status\n",
    "We will use Pandas for this. \n",
    "<br>\n",
    "<br>\n",
    "The following code allows us to change values before to new ones.\n",
    "<br>\n",
    "<br>\n",
    "We also changed the title for Insufficient;... to just hold Insufficient. We will assign the disposition as incomplete formalities.\n",
    "<br>\n",
    "<br>\n",
    "We will change Null, NaN and - as Others to make it a category of its own.\n"
   ]
  },
  {
   "cell_type": "code",
   "execution_count": 291,
   "metadata": {},
   "outputs": [],
   "source": [
    "# This fixes the spelling mistakes and change Insufficient to a more short hand text for better coding.\n",
    "df[\"Status\"].replace(\"Approve in Full\", \"Approved\", inplace=True)\n",
    "df[\"Status\"].replace(\"Deny\", \"Denied\", inplace=True)\n",
    "df[\"Status\"].replace(\"Settle\", \"Settled\", inplace=True)\n",
    "df[\"Status\"].replace(\"Insufficient; one of the following items required: sum certain; statement of fact; signature; location of incident; and date.\", \"Insufficient Evidence\", inplace=True)\n"
   ]
  },
  {
   "cell_type": "code",
   "execution_count": 292,
   "metadata": {},
   "outputs": [],
   "source": [
    "df['Status'].fillna(value='Other', inplace=True)\n",
    "df['Status'].replace('-', 'Other', inplace=True)"
   ]
  },
  {
   "cell_type": "code",
   "execution_count": 293,
   "metadata": {},
   "outputs": [
    {
     "data": {
      "text/plain": [
       "Denied                                               96576\n",
       "Approved                                             47363\n",
       "Settled                                              33724\n",
       "Other                                                12760\n",
       "Canceled                                              7018\n",
       "Insufficient Evidence                                 5381\n",
       "Closed as a contractor claim                          1315\n",
       "In litigation                                          108\n",
       "Claim entered                                           14\n",
       "In review                                                9\n",
       "Claim has been assigned for further investigation        1\n",
       "Pending response from claimant                           1\n",
       "Name: Status, dtype: int64"
      ]
     },
     "execution_count": 293,
     "metadata": {},
     "output_type": "execute_result"
    }
   ],
   "source": [
    "df['Status'].value_counts(dropna=False)"
   ]
  },
  {
   "attachments": {},
   "cell_type": "markdown",
   "metadata": {},
   "source": [
    "### 2.2 Have Status Reflect Disposition\n",
    "1. Denied = Deny\n",
    "2. Approved = Approved in Full\n",
    "3. Settled = Settle\n",
    "4. Other = Non-Pursuable\n",
    "5. Canceled = Non-Pursuable\n",
    "6. Insufficient Evidence = Non-Pursuable\n",
    "7. In litigation = In pursuit\n",
    "8. In review = In pursuit\n",
    "9. Claim has been assigned for further investigation = In pursuit\n",
    "10. Pending response from claimant = In pursuit\n",
    "11. Closed as a contractor claim = Non-TSA\n",
    "\n",
    "This allows to hold only 5 categories that we could use for their performance. "
   ]
  },
  {
   "cell_type": "code",
   "execution_count": 294,
   "metadata": {},
   "outputs": [],
   "source": [
    "status_to_disposition = {\n",
    "    'Denied': 'Deny',\n",
    "    'Approved': 'Approved in Full',\n",
    "    'Settled': 'Settle',\n",
    "    'Other': 'Non-Pursuable',\n",
    "    'Canceled': 'Non-Pursuable',\n",
    "    'Insufficient Evidence': 'Non-Pursuable',\n",
    "    'In litigation': 'In pursuit',\n",
    "    'In review': 'In pursuit',\n",
    "    'Claim has been assigned for further investigation': 'In pursuit',\n",
    "    'Pending response from claimant': 'In pursuit',\n",
    "    'Closed as a contractor claim': 'Non-TSA',\n",
    "    \n",
    "}\n",
    "df['Disposition'] = df['Status'].map(status_to_disposition)\n",
    "\n",
    "df['Disposition'].fillna(value='Unknown', inplace=True)"
   ]
  },
  {
   "cell_type": "code",
   "execution_count": 295,
   "metadata": {},
   "outputs": [
    {
     "data": {
      "text/plain": [
       "Deny                96576\n",
       "Approved in Full    47363\n",
       "Settle              33724\n",
       "Non-Pursuable       25159\n",
       "Non-TSA              1315\n",
       "In pursuit            119\n",
       "Unknown                14\n",
       "Name: Disposition, dtype: int64"
      ]
     },
     "execution_count": 295,
     "metadata": {},
     "output_type": "execute_result"
    }
   ],
   "source": [
    "df['Disposition'].value_counts(dropna=False)"
   ]
  },
  {
   "cell_type": "code",
   "execution_count": 296,
   "metadata": {},
   "outputs": [
    {
     "data": {
      "text/plain": [
       "Claim Number         3\n",
       "Date Received      266\n",
       "Incident Date     2186\n",
       "Airport Code      8527\n",
       "Airport Name      8527\n",
       "Airline Name     34377\n",
       "Claim Type        7916\n",
       "Claim Site         743\n",
       "Item              3969\n",
       "Claim Amount      4046\n",
       "Status               0\n",
       "Close Amount     68955\n",
       "Disposition          0\n",
       "dtype: int64"
      ]
     },
     "execution_count": 296,
     "metadata": {},
     "output_type": "execute_result"
    }
   ],
   "source": [
    "# Check our data Status\n",
    "df.isna().sum()"
   ]
  },
  {
   "attachments": {},
   "cell_type": "markdown",
   "metadata": {},
   "source": [
    "### Airport Code and Airport Name Missing values. \n",
    "There is still a significant amount of missing values in Airport Code and Airport name. We will just drop these rows due to the fact that we want to analyze the TSA whos main domain of jurisdiction are at airports. "
   ]
  },
  {
   "cell_type": "code",
   "execution_count": 297,
   "metadata": {},
   "outputs": [],
   "source": [
    "df['Airport Code'].replace('Missing', np.nan, inplace=True)\n",
    "df['Airport Name'].replace('Missing', np.nan, inplace=True)"
   ]
  },
  {
   "cell_type": "code",
   "execution_count": 298,
   "metadata": {},
   "outputs": [],
   "source": [
    "df['Airport Code'].replace('-', np.nan, inplace=True)\n",
    "df['Airport Name'].replace('-', np.nan, inplace=True)"
   ]
  },
  {
   "attachments": {},
   "cell_type": "markdown",
   "metadata": {},
   "source": [
    "### Airline Name Missing Values\n",
    "There is a significant amount of missing values in this column as well we will just drop values where airport Name and code is null. This ensure we have a full random sample. \n"
   ]
  },
  {
   "cell_type": "code",
   "execution_count": 299,
   "metadata": {},
   "outputs": [],
   "source": [
    "df.dropna(subset=['Airport Code', 'Airport Name'], how='all', inplace=True)"
   ]
  },
  {
   "cell_type": "code",
   "execution_count": 316,
   "metadata": {},
   "outputs": [],
   "source": [
    "df['Airline Name'].replace(np.nan, 'Unknown', inplace=True)"
   ]
  },
  {
   "cell_type": "code",
   "execution_count": 317,
   "metadata": {},
   "outputs": [
    {
     "data": {
      "text/plain": [
       "Claim Number         0\n",
       "Date Received      112\n",
       "Incident Date      690\n",
       "Airport Code         0\n",
       "Airport Name         0\n",
       "Airline Name         0\n",
       "Claim Type           0\n",
       "Claim Site           0\n",
       "Item              3460\n",
       "Claim Amount      2288\n",
       "Status               0\n",
       "Close Amount     64319\n",
       "Disposition          0\n",
       "dtype: int64"
      ]
     },
     "execution_count": 317,
     "metadata": {},
     "output_type": "execute_result"
    }
   ],
   "source": [
    "df.isna().sum()"
   ]
  },
  {
   "cell_type": "code",
   "execution_count": 318,
   "metadata": {},
   "outputs": [
    {
     "data": {
      "text/plain": [
       "Checked Baggage    154107\n",
       "Checkpoint          38657\n",
       "Other                1538\n",
       "Motor Vehicle         432\n",
       "Bus Station            15\n",
       "Name: Claim Site, dtype: int64"
      ]
     },
     "execution_count": 318,
     "metadata": {},
     "output_type": "execute_result"
    }
   ],
   "source": [
    "df['Claim Site'].value_counts(dropna=False)"
   ]
  },
  {
   "attachments": {},
   "cell_type": "markdown",
   "metadata": {},
   "source": [
    "### Claim Site Missing Values \n",
    "There is two type of null values called NaN and -. We will combine them NaN and just drop these as well."
   ]
  },
  {
   "cell_type": "code",
   "execution_count": 319,
   "metadata": {},
   "outputs": [],
   "source": [
    "df['Claim Site'].replace('-', np.nan, inplace=True)"
   ]
  },
  {
   "cell_type": "code",
   "execution_count": 320,
   "metadata": {},
   "outputs": [],
   "source": [
    "df.dropna(subset=['Claim Site'], how='any', inplace=True)"
   ]
  },
  {
   "cell_type": "code",
   "execution_count": 321,
   "metadata": {},
   "outputs": [
    {
     "data": {
      "text/plain": [
       "Claim Number         0\n",
       "Date Received      112\n",
       "Incident Date      690\n",
       "Airport Code         0\n",
       "Airport Name         0\n",
       "Airline Name         0\n",
       "Claim Type           0\n",
       "Claim Site           0\n",
       "Item              3460\n",
       "Claim Amount      2288\n",
       "Status               0\n",
       "Close Amount     64319\n",
       "Disposition          0\n",
       "dtype: int64"
      ]
     },
     "execution_count": 321,
     "metadata": {},
     "output_type": "execute_result"
    }
   ],
   "source": [
    "df.isna().sum()"
   ]
  },
  {
   "attachments": {},
   "cell_type": "markdown",
   "metadata": {},
   "source": [
    "### Claim type missing Values\n",
    "There are a few missing values as well in Claim type we will see what kind of claim type are present in the column."
   ]
  },
  {
   "cell_type": "code",
   "execution_count": 322,
   "metadata": {},
   "outputs": [
    {
     "data": {
      "text/plain": [
       "Passenger Property Loss    114679\n",
       "Property Damage             71612\n",
       "Others                       5727\n",
       "Personal Injury              1414\n",
       "Employee Loss (MPCECA)        474\n",
       "Passenger Theft               459\n",
       "Motor Vehicle                 333\n",
       "Complaint                      44\n",
       "Wrongful Death                  4\n",
       "Compliment                      2\n",
       "Bus Terminal                    1\n",
       "Name: Claim Type, dtype: int64"
      ]
     },
     "execution_count": 322,
     "metadata": {},
     "output_type": "execute_result"
    }
   ],
   "source": [
    "df[\"Claim Type\"].value_counts(dropna=False)\n"
   ]
  },
  {
   "cell_type": "code",
   "execution_count": 323,
   "metadata": {},
   "outputs": [
    {
     "data": {
      "text/plain": [
       "11"
      ]
     },
     "execution_count": 323,
     "metadata": {},
     "output_type": "execute_result"
    }
   ],
   "source": [
    "df[\"Claim Type\"].nunique()"
   ]
  },
  {
   "attachments": {},
   "cell_type": "markdown",
   "metadata": {},
   "source": [
    "Based on the reading we will combine the missing values of NaN and - as Others. We will make this a category of its own. There could be a variaty of factors why this field was not filled in but to cross correlate it with items we do not have enough information to determine if the correlation is accurate. For example distinguishing property loss and damage will make our dataset bias. "
   ]
  },
  {
   "cell_type": "code",
   "execution_count": 307,
   "metadata": {},
   "outputs": [],
   "source": [
    "df['Claim Type'].replace('-', 'Others', inplace=True)\n",
    "df['Claim Type'].fillna('Others', inplace=True)"
   ]
  },
  {
   "cell_type": "code",
   "execution_count": 324,
   "metadata": {},
   "outputs": [
    {
     "data": {
      "text/plain": [
       "Passenger Property Loss    114679\n",
       "Property Damage             71612\n",
       "Others                       5727\n",
       "Personal Injury              1414\n",
       "Employee Loss (MPCECA)        474\n",
       "Passenger Theft               459\n",
       "Motor Vehicle                 333\n",
       "Complaint                      44\n",
       "Wrongful Death                  4\n",
       "Compliment                      2\n",
       "Bus Terminal                    1\n",
       "Name: Claim Type, dtype: int64"
      ]
     },
     "execution_count": 324,
     "metadata": {},
     "output_type": "execute_result"
    }
   ],
   "source": [
    "df[\"Claim Type\"].value_counts(dropna=False)"
   ]
  },
  {
   "cell_type": "code",
   "execution_count": 325,
   "metadata": {},
   "outputs": [
    {
     "data": {
      "text/plain": [
       "Claim Number         0\n",
       "Date Received      112\n",
       "Incident Date      690\n",
       "Airport Code         0\n",
       "Airport Name         0\n",
       "Airline Name         0\n",
       "Claim Type           0\n",
       "Claim Site           0\n",
       "Item              3460\n",
       "Claim Amount      2288\n",
       "Status               0\n",
       "Close Amount     64319\n",
       "Disposition          0\n",
       "dtype: int64"
      ]
     },
     "execution_count": 325,
     "metadata": {},
     "output_type": "execute_result"
    }
   ],
   "source": [
    "df.isna().sum()"
   ]
  },
  {
   "attachments": {},
   "cell_type": "markdown",
   "metadata": {},
   "source": [
    "### Item and Claim amount missing values. \n",
    "- _Claim Amount_\n",
    "<br>\n",
    "We will replace Claim Amount where Null there are null values we will leave them as is. I have tried to manunipulate it but to no avail.\n",
    "\n",
    "- _Item_\n",
    "<br>\n",
    "We will replace it as undefined if its property damange or loss.\n",
    "<br> Everything else will be like what we did for column status and disposition"
   ]
  },
  {
   "cell_type": "code",
   "execution_count": 326,
   "metadata": {},
   "outputs": [
    {
     "data": {
      "text/plain": [
       "$0.00         28362\n",
       "-             12204\n",
       "$100.00        3564\n",
       "$50.00         3212\n",
       "$200.00        3043\n",
       "              ...  \n",
       "$1;301.99         1\n",
       "$1;877.35         1\n",
       "$397.11           1\n",
       "$546.96           1\n",
       "$3;668.84         1\n",
       "Name: Claim Amount, Length: 35546, dtype: int64"
      ]
     },
     "execution_count": 326,
     "metadata": {},
     "output_type": "execute_result"
    }
   ],
   "source": [
    "df[\"Claim Amount\"].value_counts(dropna=False)"
   ]
  },
  {
   "cell_type": "code",
   "execution_count": 327,
   "metadata": {},
   "outputs": [
    {
     "data": {
      "text/plain": [
       "Claim Number         0\n",
       "Date Received      112\n",
       "Incident Date      690\n",
       "Airport Code         0\n",
       "Airport Name         0\n",
       "Airline Name         0\n",
       "Claim Type           0\n",
       "Claim Site           0\n",
       "Item              3460\n",
       "Claim Amount      2288\n",
       "Status               0\n",
       "Close Amount     64319\n",
       "Disposition          0\n",
       "dtype: int64"
      ]
     },
     "execution_count": 327,
     "metadata": {},
     "output_type": "execute_result"
    }
   ],
   "source": [
    "df.isna().sum()"
   ]
  },
  {
   "cell_type": "code",
   "execution_count": 337,
   "metadata": {},
   "outputs": [
    {
     "data": {
      "text/plain": [
       "Passenger Property Loss    114679\n",
       "Property Damage             71612\n",
       "Others                       5727\n",
       "Personal Injury              1414\n",
       "Employee Loss (MPCECA)        474\n",
       "Passenger Theft               459\n",
       "Motor Vehicle                 333\n",
       "Complaint                      44\n",
       "Wrongful Death                  4\n",
       "Compliment                      2\n",
       "Bus Terminal                    1\n",
       "Name: Claim Type, dtype: int64"
      ]
     },
     "execution_count": 337,
     "metadata": {},
     "output_type": "execute_result"
    }
   ],
   "source": [
    "# Item to reflect Claim Type. \n",
    "df['Claim Type'].value_counts()\n"
   ]
  },
  {
   "cell_type": "code",
   "execution_count": 338,
   "metadata": {},
   "outputs": [
    {
     "data": {
      "text/plain": [
       "74"
      ]
     },
     "execution_count": 338,
     "metadata": {},
     "output_type": "execute_result"
    }
   ],
   "source": [
    "df[\"Item\"].isna().sum()"
   ]
  },
  {
   "cell_type": "code",
   "execution_count": 333,
   "metadata": {},
   "outputs": [],
   "source": [
    "df.loc[df['Claim Type'].isin(['Property Damage', 'Passenger Property Loss']) & df['Item'].isna(), 'Item'] = 'Not Specified'\n",
    "df.loc[df['Claim Type'].isin(['Personal Injury']) & df['Item'].isna(), 'Item'] = 'Physical Injury'\n",
    "df.loc[df['Claim Type'].isin(['Others']) & df['Item'].isna(), 'Item'] = 'Not Specified'\n",
    "df.loc[df['Claim Type'].isin(['Passenger Theft']) & df['Item'].isna(), 'Item'] = 'Not Defined'\n",
    "df.loc[df['Claim Type'].isin(['Employee Loss (MPCECA)']) & df['Item'].isna(), 'Item'] = 'Agent Claim'\n",
    "\n"
   ]
  },
  {
   "cell_type": "code",
   "execution_count": 334,
   "metadata": {},
   "outputs": [
    {
     "data": {
      "text/plain": [
       "74"
      ]
     },
     "execution_count": 334,
     "metadata": {},
     "output_type": "execute_result"
    }
   ],
   "source": [
    "df['Item'].isna().sum()"
   ]
  },
  {
   "attachments": {},
   "cell_type": "markdown",
   "metadata": {},
   "source": [
    "### Finally we'll just drop Null values for date Received. "
   ]
  },
  {
   "cell_type": "code",
   "execution_count": 351,
   "metadata": {},
   "outputs": [],
   "source": [
    "df.dropna(subset=[\"Date Received\"], how=\"any\", inplace=True)\n"
   ]
  },
  {
   "cell_type": "code",
   "execution_count": 352,
   "metadata": {},
   "outputs": [
    {
     "data": {
      "text/plain": [
       "Claim Number         0\n",
       "Date Received        0\n",
       "Incident Date      687\n",
       "Airport Code         0\n",
       "Airport Name         0\n",
       "Airline Name         0\n",
       "Claim Type           0\n",
       "Claim Site           0\n",
       "Item                74\n",
       "Claim Amount      2282\n",
       "Status               0\n",
       "Close Amount     64311\n",
       "Disposition          0\n",
       "dtype: int64"
      ]
     },
     "execution_count": 352,
     "metadata": {},
     "output_type": "execute_result"
    }
   ],
   "source": [
    "df.isna().sum()"
   ]
  },
  {
   "attachments": {},
   "cell_type": "markdown",
   "metadata": {},
   "source": [
    "## 3.0 Data Exploration.\n",
    "After eliminating Null values where applicable we can now investigate and gather some insight for the TSA. \n",
    "<br>\n",
    "<br>\n",
    "We will first discuss the data items already have a before and after\n"
   ]
  },
  {
   "cell_type": "code",
   "execution_count": 353,
   "metadata": {},
   "outputs": [
    {
     "name": "stdout",
     "output_type": "stream",
     "text": [
      "<class 'pandas.core.frame.DataFrame'>\n",
      "Int64Index: 194637 entries, 0 to 204212\n",
      "Data columns (total 13 columns):\n",
      " #   Column         Non-Null Count   Dtype \n",
      "---  ------         --------------   ----- \n",
      " 0   Claim Number   194637 non-null  object\n",
      " 1   Date Received  194637 non-null  object\n",
      " 2   Incident Date  193950 non-null  object\n",
      " 3   Airport Code   194637 non-null  object\n",
      " 4   Airport Name   194637 non-null  object\n",
      " 5   Airline Name   194637 non-null  object\n",
      " 6   Claim Type     194637 non-null  object\n",
      " 7   Claim Site     194637 non-null  object\n",
      " 8   Item           194563 non-null  object\n",
      " 9   Claim Amount   192355 non-null  object\n",
      " 10  Status         194637 non-null  object\n",
      " 11  Close Amount   130326 non-null  object\n",
      " 12  Disposition    194637 non-null  object\n",
      "dtypes: object(13)\n",
      "memory usage: 20.8+ MB\n"
     ]
    }
   ],
   "source": [
    "df.info()"
   ]
  },
  {
   "cell_type": "code",
   "execution_count": 354,
   "metadata": {},
   "outputs": [
    {
     "data": {
      "text/plain": [
       "Claim Number         0\n",
       "Date Received        0\n",
       "Incident Date      687\n",
       "Airport Code         0\n",
       "Airport Name         0\n",
       "Airline Name         0\n",
       "Claim Type           0\n",
       "Claim Site           0\n",
       "Item                74\n",
       "Claim Amount      2282\n",
       "Status               0\n",
       "Close Amount     64311\n",
       "Disposition          0\n",
       "dtype: int64"
      ]
     },
     "execution_count": 354,
     "metadata": {},
     "output_type": "execute_result"
    }
   ],
   "source": [
    "df.isna().sum()"
   ]
  },
  {
   "cell_type": "code",
   "execution_count": 355,
   "metadata": {},
   "outputs": [
    {
     "data": {
      "image/png": "[encoded data removed]",
      "text/plain": [
       "<Figure size 640x480 with 1 Axes>"
      ]
     },
     "metadata": {},
     "output_type": "display_data"
    }
   ],
   "source": [
    "# Using Seaborn and inputing data values\n",
    "x_labels = ['Original', 'Cleaned']\n",
    "x_values = [204267, 194749]\n",
    "\n",
    "#Get the percentage Difference for the before and after\n",
    "percent = round((x_values[1] - x_values[0]) / x_values[0] * 100, 2)\n",
    "percentage_text = f'{percent}%'\n",
    "\n",
    "sns.set_style(\"whitegrid\")\n",
    "sns.barplot(x=x_labels, y=x_values)\n",
    "plt.title('Number of Rows in Original vs Cleaned TSA Claims Dataset')\n",
    "plt.ylabel('Number of Rows')\n",
    "plt.ylim(190000, 210000)\n",
    "#Just to position a value of how much the dataset has srunk\n",
    "plt.text(0.5, 206000, percentage_text, ha='center', va='center', fontweight='bold', color='red') \n",
    "plt.show()"
   ]
  },
  {
   "cell_type": "code",
   "execution_count": 356,
   "metadata": {},
   "outputs": [
    {
     "data": {
      "text/html": [
       "<div>\n",
       "<style scoped>\n",
       "    .dataframe tbody tr th:only-of-type {\n",
       "        vertical-align: middle;\n",
       "    }\n",
       "\n",
       "    .dataframe tbody tr th {\n",
       "        vertical-align: top;\n",
       "    }\n",
       "\n",
       "    .dataframe thead th {\n",
       "        text-align: right;\n",
       "    }\n",
       "</style>\n",
       "<table border=\"1\" class=\"dataframe\">\n",
       "  <thead>\n",
       "    <tr style=\"text-align: right;\">\n",
       "      <th></th>\n",
       "      <th>Claim Number</th>\n",
       "      <th>Date Received</th>\n",
       "      <th>Incident Date</th>\n",
       "      <th>Airport Code</th>\n",
       "      <th>Airport Name</th>\n",
       "      <th>Airline Name</th>\n",
       "      <th>Claim Type</th>\n",
       "      <th>Claim Site</th>\n",
       "      <th>Item</th>\n",
       "      <th>Claim Amount</th>\n",
       "      <th>Status</th>\n",
       "      <th>Close Amount</th>\n",
       "      <th>Disposition</th>\n",
       "    </tr>\n",
       "  </thead>\n",
       "  <tbody>\n",
       "    <tr>\n",
       "      <th>0</th>\n",
       "      <td>0909802M</td>\n",
       "      <td>4-Jan-02</td>\n",
       "      <td>12/12/2002 0:00</td>\n",
       "      <td>EWR</td>\n",
       "      <td>Newark International Airport</td>\n",
       "      <td>Continental Airlines</td>\n",
       "      <td>Property Damage</td>\n",
       "      <td>Checkpoint</td>\n",
       "      <td>Other</td>\n",
       "      <td>$350.00</td>\n",
       "      <td>Approved</td>\n",
       "      <td>$350.00</td>\n",
       "      <td>Approved in Full</td>\n",
       "    </tr>\n",
       "    <tr>\n",
       "      <th>1</th>\n",
       "      <td>0202417M</td>\n",
       "      <td>2-Feb-02</td>\n",
       "      <td>1/16/2004 0:00</td>\n",
       "      <td>SEA</td>\n",
       "      <td>Seattle-Tacoma International</td>\n",
       "      <td>Unknown</td>\n",
       "      <td>Property Damage</td>\n",
       "      <td>Checked Baggage</td>\n",
       "      <td>Luggage (all types including footlockers)</td>\n",
       "      <td>$100.00</td>\n",
       "      <td>Settled</td>\n",
       "      <td>$50.00</td>\n",
       "      <td>Settle</td>\n",
       "    </tr>\n",
       "    <tr>\n",
       "      <th>2</th>\n",
       "      <td>0202445M</td>\n",
       "      <td>4-Feb-02</td>\n",
       "      <td>11/26/2003 0:00</td>\n",
       "      <td>STL</td>\n",
       "      <td>Lambert St. Louis International</td>\n",
       "      <td>American Airlines</td>\n",
       "      <td>Property Damage</td>\n",
       "      <td>Checked Baggage</td>\n",
       "      <td>Cell Phones</td>\n",
       "      <td>$278.88</td>\n",
       "      <td>Settled</td>\n",
       "      <td>$227.92</td>\n",
       "      <td>Settle</td>\n",
       "    </tr>\n",
       "    <tr>\n",
       "      <th>3</th>\n",
       "      <td>0909816M</td>\n",
       "      <td>7-Feb-02</td>\n",
       "      <td>1/6/2003 0:00</td>\n",
       "      <td>MIA</td>\n",
       "      <td>Miami International Airport</td>\n",
       "      <td>American Airlines</td>\n",
       "      <td>Property Damage</td>\n",
       "      <td>Checkpoint</td>\n",
       "      <td>Luggage (all types including footlockers)</td>\n",
       "      <td>$50.00</td>\n",
       "      <td>Approved</td>\n",
       "      <td>$50.00</td>\n",
       "      <td>Approved in Full</td>\n",
       "    </tr>\n",
       "    <tr>\n",
       "      <th>4</th>\n",
       "      <td>2.00503E+12</td>\n",
       "      <td>18-Feb-02</td>\n",
       "      <td>2/5/2005 0:00</td>\n",
       "      <td>MCO</td>\n",
       "      <td>Orlando International Airport</td>\n",
       "      <td>Delta (Song)</td>\n",
       "      <td>Property Damage</td>\n",
       "      <td>Checkpoint</td>\n",
       "      <td>Baby - Strollers; car seats; playpen; etc.</td>\n",
       "      <td>$84.79</td>\n",
       "      <td>Approved</td>\n",
       "      <td>$84.79</td>\n",
       "      <td>Approved in Full</td>\n",
       "    </tr>\n",
       "  </tbody>\n",
       "</table>\n",
       "</div>"
      ],
      "text/plain": [
       "  Claim Number Date Received    Incident Date Airport Code  \\\n",
       "0     0909802M      4-Jan-02  12/12/2002 0:00          EWR   \n",
       "1     0202417M      2-Feb-02   1/16/2004 0:00          SEA   \n",
       "2     0202445M      4-Feb-02  11/26/2003 0:00          STL   \n",
       "3     0909816M      7-Feb-02    1/6/2003 0:00          MIA   \n",
       "4  2.00503E+12     18-Feb-02    2/5/2005 0:00          MCO   \n",
       "\n",
       "                      Airport Name          Airline Name       Claim Type  \\\n",
       "0     Newark International Airport  Continental Airlines  Property Damage   \n",
       "1     Seattle-Tacoma International               Unknown  Property Damage   \n",
       "2  Lambert St. Louis International     American Airlines  Property Damage   \n",
       "3      Miami International Airport     American Airlines  Property Damage   \n",
       "4    Orlando International Airport          Delta (Song)  Property Damage   \n",
       "\n",
       "        Claim Site                                        Item Claim Amount  \\\n",
       "0       Checkpoint                                       Other     $350.00    \n",
       "1  Checked Baggage   Luggage (all types including footlockers)     $100.00    \n",
       "2  Checked Baggage                                 Cell Phones     $278.88    \n",
       "3       Checkpoint   Luggage (all types including footlockers)      $50.00    \n",
       "4       Checkpoint  Baby - Strollers; car seats; playpen; etc.      $84.79    \n",
       "\n",
       "     Status Close Amount       Disposition  \n",
       "0  Approved     $350.00   Approved in Full  \n",
       "1   Settled      $50.00             Settle  \n",
       "2   Settled     $227.92             Settle  \n",
       "3  Approved      $50.00   Approved in Full  \n",
       "4  Approved      $84.79   Approved in Full  "
      ]
     },
     "metadata": {},
     "output_type": "display_data"
    },
    {
     "data": {
      "text/html": [
       "<div>\n",
       "<style scoped>\n",
       "    .dataframe tbody tr th:only-of-type {\n",
       "        vertical-align: middle;\n",
       "    }\n",
       "\n",
       "    .dataframe tbody tr th {\n",
       "        vertical-align: top;\n",
       "    }\n",
       "\n",
       "    .dataframe thead th {\n",
       "        text-align: right;\n",
       "    }\n",
       "</style>\n",
       "<table border=\"1\" class=\"dataframe\">\n",
       "  <thead>\n",
       "    <tr style=\"text-align: right;\">\n",
       "      <th></th>\n",
       "      <th>Claim Number</th>\n",
       "      <th>Date Received</th>\n",
       "      <th>Incident Date</th>\n",
       "      <th>Airport Code</th>\n",
       "      <th>Airport Name</th>\n",
       "      <th>Airline Name</th>\n",
       "      <th>Claim Type</th>\n",
       "      <th>Claim Site</th>\n",
       "      <th>Item</th>\n",
       "      <th>Claim Amount</th>\n",
       "      <th>Status</th>\n",
       "      <th>Close Amount</th>\n",
       "      <th>Disposition</th>\n",
       "    </tr>\n",
       "  </thead>\n",
       "  <tbody>\n",
       "    <tr>\n",
       "      <th>204208</th>\n",
       "      <td>2015100000000.0</td>\n",
       "      <td>20-Oct-15</td>\n",
       "      <td>29-Sep-15</td>\n",
       "      <td>ZZX</td>\n",
       "      <td>Non TSA Airport (motor vehicle)</td>\n",
       "      <td>-</td>\n",
       "      <td>Motor Vehicle</td>\n",
       "      <td>Motor Vehicle</td>\n",
       "      <td>-</td>\n",
       "      <td>-</td>\n",
       "      <td>Other</td>\n",
       "      <td>NaN</td>\n",
       "      <td>Non-Pursuable</td>\n",
       "    </tr>\n",
       "    <tr>\n",
       "      <th>204209</th>\n",
       "      <td>2015120000000.0</td>\n",
       "      <td>8-Dec-15</td>\n",
       "      <td>3-Dec-14</td>\n",
       "      <td>ZZX</td>\n",
       "      <td>Non TSA Airport (motor vehicle)</td>\n",
       "      <td>-</td>\n",
       "      <td>Motor Vehicle</td>\n",
       "      <td>Motor Vehicle</td>\n",
       "      <td>-</td>\n",
       "      <td>$3;668.84</td>\n",
       "      <td>Settled</td>\n",
       "      <td>NaN</td>\n",
       "      <td>Settle</td>\n",
       "    </tr>\n",
       "    <tr>\n",
       "      <th>204210</th>\n",
       "      <td>2015120000000.0</td>\n",
       "      <td>15-Dec-15</td>\n",
       "      <td>8-May-15</td>\n",
       "      <td>ZZX</td>\n",
       "      <td>Non TSA Airport (motor vehicle)</td>\n",
       "      <td>-</td>\n",
       "      <td>Motor Vehicle</td>\n",
       "      <td>Motor Vehicle</td>\n",
       "      <td>-</td>\n",
       "      <td>-</td>\n",
       "      <td>Other</td>\n",
       "      <td>NaN</td>\n",
       "      <td>Non-Pursuable</td>\n",
       "    </tr>\n",
       "    <tr>\n",
       "      <th>204211</th>\n",
       "      <td>2015070000000.0</td>\n",
       "      <td>16-Jul-15</td>\n",
       "      <td>18-Jul-13</td>\n",
       "      <td>ZZZ</td>\n",
       "      <td>Unspecified Personal Injury</td>\n",
       "      <td>-</td>\n",
       "      <td>Personal Injury</td>\n",
       "      <td>Other</td>\n",
       "      <td>-</td>\n",
       "      <td>-</td>\n",
       "      <td>Other</td>\n",
       "      <td>NaN</td>\n",
       "      <td>Non-Pursuable</td>\n",
       "    </tr>\n",
       "    <tr>\n",
       "      <th>204212</th>\n",
       "      <td>2015110000000.0</td>\n",
       "      <td>16-Oct-15</td>\n",
       "      <td>12-Nov-14</td>\n",
       "      <td>ZZZ</td>\n",
       "      <td>Unspecified Personal Injury</td>\n",
       "      <td>-</td>\n",
       "      <td>Personal Injury</td>\n",
       "      <td>Motor Vehicle</td>\n",
       "      <td>-</td>\n",
       "      <td>-</td>\n",
       "      <td>Other</td>\n",
       "      <td>NaN</td>\n",
       "      <td>Non-Pursuable</td>\n",
       "    </tr>\n",
       "  </tbody>\n",
       "</table>\n",
       "</div>"
      ],
      "text/plain": [
       "           Claim Number Date Received Incident Date Airport Code  \\\n",
       "204208  2015100000000.0     20-Oct-15     29-Sep-15          ZZX   \n",
       "204209  2015120000000.0      8-Dec-15      3-Dec-14          ZZX   \n",
       "204210  2015120000000.0     15-Dec-15      8-May-15          ZZX   \n",
       "204211  2015070000000.0     16-Jul-15     18-Jul-13          ZZZ   \n",
       "204212  2015110000000.0     16-Oct-15     12-Nov-14          ZZZ   \n",
       "\n",
       "                           Airport Name Airline Name       Claim Type  \\\n",
       "204208  Non TSA Airport (motor vehicle)            -    Motor Vehicle   \n",
       "204209  Non TSA Airport (motor vehicle)            -    Motor Vehicle   \n",
       "204210  Non TSA Airport (motor vehicle)            -    Motor Vehicle   \n",
       "204211      Unspecified Personal Injury            -  Personal Injury   \n",
       "204212      Unspecified Personal Injury            -  Personal Injury   \n",
       "\n",
       "           Claim Site Item Claim Amount   Status Close Amount    Disposition  \n",
       "204208  Motor Vehicle    -            -    Other          NaN  Non-Pursuable  \n",
       "204209  Motor Vehicle    -   $3;668.84   Settled          NaN         Settle  \n",
       "204210  Motor Vehicle    -            -    Other          NaN  Non-Pursuable  \n",
       "204211          Other    -            -    Other          NaN  Non-Pursuable  \n",
       "204212  Motor Vehicle    -            -    Other          NaN  Non-Pursuable  "
      ]
     },
     "metadata": {},
     "output_type": "display_data"
    }
   ],
   "source": [
    "display(df.head(), df.tail())"
   ]
  },
  {
   "attachments": {},
   "cell_type": "markdown",
   "metadata": {},
   "source": [
    "### Cleaned Data Description\n",
    "From our new cleaned Dataset we have:\n",
    "1. Dataset ranges from Jan 2002 until October 2015\n",
    "2. Dataset has srunk to less than 5% compared to the initial. \n",
    "3. Fixed spelling errors\n",
    "4. only included values where Airport Name is available. "
   ]
  },
  {
   "attachments": {},
   "cell_type": "markdown",
   "metadata": {},
   "source": [
    "## 3.1 What claims are reported the most."
   ]
  },
  {
   "cell_type": "code",
   "execution_count": 357,
   "metadata": {},
   "outputs": [
    {
     "data": {
      "image/png": "[encoded data removed]",
      "text/plain": [
       "<Figure size 1000x600 with 1 Axes>"
      ]
     },
     "metadata": {},
     "output_type": "display_data"
    }
   ],
   "source": [
    "sns.set_style(\"darkgrid\")\n",
    "plt.figure(figsize=(10,6))\n",
    "sns.countplot(y=\"Claim Type\", data=df, order = df['Claim Type'].value_counts().index)\n",
    "plt.title('Distribution of Claim Types')\n",
    "plt.xlabel('Number of Claims')\n",
    "plt.ylabel('Claim Type')\n",
    "plt.show()"
   ]
  },
  {
   "cell_type": "code",
   "execution_count": 358,
   "metadata": {},
   "outputs": [
    {
     "data": {
      "image/png": "[encoded data removed]",
      "text/plain": [
       "<Figure size 800x800 with 1 Axes>"
      ]
     },
     "metadata": {},
     "output_type": "display_data"
    }
   ],
   "source": [
    "# Create a pie chart of claim types\n",
    "sns.set_style(\"darkgrid\")\n",
    "plt.figure(figsize=(8, 8))\n",
    "\n",
    "# Specify how much to explode each slice of the pie\n",
    "explode = [0.1 if x in ['Property Damage', 'Passenger Property Loss', 'Others'] else 0 for x in df['Claim Type'].unique()]\n",
    "\n",
    "# Specify the labels and percentage format for each slice of the pie\n",
    "labels = [x if x in ['Property Damage', 'Passenger Property Loss', 'Others'] else '' for x in df['Claim Type'].unique()]\n",
    "\n",
    "\n",
    "# Plot the pie chart\n",
    "df['Claim Type'].value_counts().plot(kind='pie', autopct='%1.1f%%', startangle=90, counterclock=False, explode=explode, labels=labels)\n",
    "plt.title('Distribution of Claim Types')\n",
    "plt.ylabel('')\n",
    "plt.show()"
   ]
  },
  {
   "attachments": {},
   "cell_type": "markdown",
   "metadata": {},
   "source": [
    "# Where do these claims happen the most?"
   ]
  },
  {
   "cell_type": "code",
   "execution_count": 359,
   "metadata": {},
   "outputs": [
    {
     "data": {
      "image/png": "[encoded data removed]",
      "text/plain": [
       "<Figure size 1000x600 with 1 Axes>"
      ]
     },
     "metadata": {},
     "output_type": "display_data"
    }
   ],
   "source": [
    "sns.set_style(\"darkgrid\")\n",
    "plt.figure(figsize=(10,6))\n",
    "sns.countplot(y=\"Claim Site\", data=df, order = df['Claim Site'].value_counts().index)\n",
    "plt.title('Distribution of Claim Site')\n",
    "plt.xlabel('Number of Claims of Occurance')\n",
    "plt.ylabel('Claim Type')\n",
    "plt.show()"
   ]
  },
  {
   "attachments": {},
   "cell_type": "markdown",
   "metadata": {},
   "source": [
    "#### Terminology explained \n",
    "- Checked Baggage \n",
    "<br>\n",
    "Note: Happens after the passenger checks in with airline and submits their baggage for the airline company to handle to submit to the cargo bay of the airplane.\n",
    "\n",
    "- Checkpoint\n",
    "<br>\n",
    "Note: Happens when the passenger before the passenger boards their plan.\n"
   ]
  },
  {
   "attachments": {},
   "cell_type": "markdown",
   "metadata": {},
   "source": [
    "## Has claims been the same through out the year?\n"
   ]
  },
  {
   "cell_type": "code",
   "execution_count": 360,
   "metadata": {},
   "outputs": [
    {
     "data": {
      "text/html": [
       "<div>\n",
       "<style scoped>\n",
       "    .dataframe tbody tr th:only-of-type {\n",
       "        vertical-align: middle;\n",
       "    }\n",
       "\n",
       "    .dataframe tbody tr th {\n",
       "        vertical-align: top;\n",
       "    }\n",
       "\n",
       "    .dataframe thead th {\n",
       "        text-align: right;\n",
       "    }\n",
       "</style>\n",
       "<table border=\"1\" class=\"dataframe\">\n",
       "  <thead>\n",
       "    <tr style=\"text-align: right;\">\n",
       "      <th></th>\n",
       "      <th>Claim Number</th>\n",
       "      <th>Date Received</th>\n",
       "      <th>Incident Date</th>\n",
       "      <th>Airport Code</th>\n",
       "      <th>Airport Name</th>\n",
       "      <th>Airline Name</th>\n",
       "      <th>Claim Type</th>\n",
       "      <th>Claim Site</th>\n",
       "      <th>Item</th>\n",
       "      <th>Claim Amount</th>\n",
       "      <th>Status</th>\n",
       "      <th>Close Amount</th>\n",
       "      <th>Disposition</th>\n",
       "    </tr>\n",
       "  </thead>\n",
       "  <tbody>\n",
       "    <tr>\n",
       "      <th>0</th>\n",
       "      <td>0909802M</td>\n",
       "      <td>4-Jan-02</td>\n",
       "      <td>12/12/2002 0:00</td>\n",
       "      <td>EWR</td>\n",
       "      <td>Newark International Airport</td>\n",
       "      <td>Continental Airlines</td>\n",
       "      <td>Property Damage</td>\n",
       "      <td>Checkpoint</td>\n",
       "      <td>Other</td>\n",
       "      <td>$350.00</td>\n",
       "      <td>Approved</td>\n",
       "      <td>$350.00</td>\n",
       "      <td>Approved in Full</td>\n",
       "    </tr>\n",
       "    <tr>\n",
       "      <th>1</th>\n",
       "      <td>0202417M</td>\n",
       "      <td>2-Feb-02</td>\n",
       "      <td>1/16/2004 0:00</td>\n",
       "      <td>SEA</td>\n",
       "      <td>Seattle-Tacoma International</td>\n",
       "      <td>Unknown</td>\n",
       "      <td>Property Damage</td>\n",
       "      <td>Checked Baggage</td>\n",
       "      <td>Luggage (all types including footlockers)</td>\n",
       "      <td>$100.00</td>\n",
       "      <td>Settled</td>\n",
       "      <td>$50.00</td>\n",
       "      <td>Settle</td>\n",
       "    </tr>\n",
       "    <tr>\n",
       "      <th>2</th>\n",
       "      <td>0202445M</td>\n",
       "      <td>4-Feb-02</td>\n",
       "      <td>11/26/2003 0:00</td>\n",
       "      <td>STL</td>\n",
       "      <td>Lambert St. Louis International</td>\n",
       "      <td>American Airlines</td>\n",
       "      <td>Property Damage</td>\n",
       "      <td>Checked Baggage</td>\n",
       "      <td>Cell Phones</td>\n",
       "      <td>$278.88</td>\n",
       "      <td>Settled</td>\n",
       "      <td>$227.92</td>\n",
       "      <td>Settle</td>\n",
       "    </tr>\n",
       "    <tr>\n",
       "      <th>3</th>\n",
       "      <td>0909816M</td>\n",
       "      <td>7-Feb-02</td>\n",
       "      <td>1/6/2003 0:00</td>\n",
       "      <td>MIA</td>\n",
       "      <td>Miami International Airport</td>\n",
       "      <td>American Airlines</td>\n",
       "      <td>Property Damage</td>\n",
       "      <td>Checkpoint</td>\n",
       "      <td>Luggage (all types including footlockers)</td>\n",
       "      <td>$50.00</td>\n",
       "      <td>Approved</td>\n",
       "      <td>$50.00</td>\n",
       "      <td>Approved in Full</td>\n",
       "    </tr>\n",
       "    <tr>\n",
       "      <th>4</th>\n",
       "      <td>2.00503E+12</td>\n",
       "      <td>18-Feb-02</td>\n",
       "      <td>2/5/2005 0:00</td>\n",
       "      <td>MCO</td>\n",
       "      <td>Orlando International Airport</td>\n",
       "      <td>Delta (Song)</td>\n",
       "      <td>Property Damage</td>\n",
       "      <td>Checkpoint</td>\n",
       "      <td>Baby - Strollers; car seats; playpen; etc.</td>\n",
       "      <td>$84.79</td>\n",
       "      <td>Approved</td>\n",
       "      <td>$84.79</td>\n",
       "      <td>Approved in Full</td>\n",
       "    </tr>\n",
       "  </tbody>\n",
       "</table>\n",
       "</div>"
      ],
      "text/plain": [
       "  Claim Number Date Received    Incident Date Airport Code  \\\n",
       "0     0909802M      4-Jan-02  12/12/2002 0:00          EWR   \n",
       "1     0202417M      2-Feb-02   1/16/2004 0:00          SEA   \n",
       "2     0202445M      4-Feb-02  11/26/2003 0:00          STL   \n",
       "3     0909816M      7-Feb-02    1/6/2003 0:00          MIA   \n",
       "4  2.00503E+12     18-Feb-02    2/5/2005 0:00          MCO   \n",
       "\n",
       "                      Airport Name          Airline Name       Claim Type  \\\n",
       "0     Newark International Airport  Continental Airlines  Property Damage   \n",
       "1     Seattle-Tacoma International               Unknown  Property Damage   \n",
       "2  Lambert St. Louis International     American Airlines  Property Damage   \n",
       "3      Miami International Airport     American Airlines  Property Damage   \n",
       "4    Orlando International Airport          Delta (Song)  Property Damage   \n",
       "\n",
       "        Claim Site                                        Item Claim Amount  \\\n",
       "0       Checkpoint                                       Other     $350.00    \n",
       "1  Checked Baggage   Luggage (all types including footlockers)     $100.00    \n",
       "2  Checked Baggage                                 Cell Phones     $278.88    \n",
       "3       Checkpoint   Luggage (all types including footlockers)      $50.00    \n",
       "4       Checkpoint  Baby - Strollers; car seats; playpen; etc.      $84.79    \n",
       "\n",
       "     Status Close Amount       Disposition  \n",
       "0  Approved     $350.00   Approved in Full  \n",
       "1   Settled      $50.00             Settle  \n",
       "2   Settled     $227.92             Settle  \n",
       "3  Approved      $50.00   Approved in Full  \n",
       "4  Approved      $84.79   Approved in Full  "
      ]
     },
     "execution_count": 360,
     "metadata": {},
     "output_type": "execute_result"
    }
   ],
   "source": [
    "df.head()"
   ]
  },
  {
   "cell_type": "code",
   "execution_count": 274,
   "metadata": {},
   "outputs": [
    {
     "data": {
      "text/html": [
       "<div>\n",
       "<style scoped>\n",
       "    .dataframe tbody tr th:only-of-type {\n",
       "        vertical-align: middle;\n",
       "    }\n",
       "\n",
       "    .dataframe tbody tr th {\n",
       "        vertical-align: top;\n",
       "    }\n",
       "\n",
       "    .dataframe thead th {\n",
       "        text-align: right;\n",
       "    }\n",
       "</style>\n",
       "<table border=\"1\" class=\"dataframe\">\n",
       "  <thead>\n",
       "    <tr style=\"text-align: right;\">\n",
       "      <th></th>\n",
       "      <th>Claim Number</th>\n",
       "      <th>Date Received</th>\n",
       "      <th>Incident Date</th>\n",
       "      <th>Airport Code</th>\n",
       "      <th>Airport Name</th>\n",
       "      <th>Airline Name</th>\n",
       "      <th>Claim Type</th>\n",
       "      <th>Claim Site</th>\n",
       "      <th>Item</th>\n",
       "      <th>Claim Amount</th>\n",
       "      <th>Status</th>\n",
       "      <th>Close Amount</th>\n",
       "      <th>Disposition</th>\n",
       "      <th>Year</th>\n",
       "    </tr>\n",
       "  </thead>\n",
       "  <tbody>\n",
       "  </tbody>\n",
       "</table>\n",
       "</div>"
      ],
      "text/plain": [
       "Empty DataFrame\n",
       "Columns: [Claim Number, Date Received, Incident Date, Airport Code, Airport Name, Airline Name, Claim Type, Claim Site, Item, Claim Amount, Status, Close Amount, Disposition, Year]\n",
       "Index: []"
      ]
     },
     "execution_count": 274,
     "metadata": {},
     "output_type": "execute_result"
    }
   ],
   "source": []
  }
 ],
 "metadata": {
  "kernelspec": {
   "display_name": "Python 3",
   "language": "python",
   "name": "python3"
  },
  "language_info": {
   "codemirror_mode": {
    "name": "ipython",
    "version": 3
   },
   "file_extension": ".py",
   "mimetype": "text/x-python",
   "name": "python",
   "nbconvert_exporter": "python",
   "pygments_lexer": "ipython3",
   "version": "3.11.2"
  },
  "orig_nbformat": 4
 },
 "nbformat": 4,
 "nbformat_minor": 2
}
